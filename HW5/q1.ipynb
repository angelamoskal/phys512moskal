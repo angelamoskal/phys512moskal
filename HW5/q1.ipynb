{
 "cells": [
  {
   "cell_type": "code",
   "execution_count": 1,
   "id": "1116c8fd",
   "metadata": {},
   "outputs": [],
   "source": [
    "import numpy as np\n",
    "import matplotlib.pyplot as plt"
   ]
  },
  {
   "cell_type": "markdown",
   "id": "ebb4b3f3",
   "metadata": {},
   "source": [
    "## 1)\n",
    "\n",
    "The functions derivs_orbit and rk4 are copy pasted from class. rk4_adaptive is a modified version of rk4 which adjusts the step size."
   ]
  },
  {
   "cell_type": "code",
   "execution_count": 2,
   "id": "f24f1389",
   "metadata": {},
   "outputs": [],
   "source": [
    "def rk4(x,h,derivs):\n",
    "    f = derivs(x)\n",
    "    f1 = derivs(x + f*h/2)\n",
    "    f2 = derivs(x + f1*h/2)\n",
    "    f3 = derivs(x + f2*h)\n",
    "    f4 = x + h*(f + 2*f1 + 2*f2 + f3)/6\n",
    "    return f4\n",
    "\n",
    "def constant_integrator(nsteps, dt, x0, derivs):\n",
    "    x = np.zeros((nsteps,len(x0)))\n",
    "    x[0] = x0\n",
    "    for i in range(1,nsteps):   \n",
    "        x[i] = rk4(x[i-1],dt,derivs)\n",
    "    return x\n",
    "\n",
    "def adaptive_integrator(h, x0, derivs):\n",
    "    '''\n",
    "    h = initial step size\n",
    "    x0 = array of initial values\n",
    "    deriv = function that evaluates derivatives\n",
    "    '''\n",
    "    nsteps = 50 #start with a conservative guess on number of steps\n",
    "    x = np.zeros((nsteps,len(x0)))\n",
    "    x[0] = x0\n",
    "    \n",
    "    t = 0 # initial time\n",
    "    err_thresh = 1e-6 # error threshold\n",
    "    acc = 0 # number of points accepted\n",
    "    \n",
    "    while t <= (2*np.pi): \n",
    "        # calculate rk4 with step size = h\n",
    "        x_big = rk4(x[acc],h,derivs)\n",
    "        \n",
    "        # calculate rk4 with two h/2 steps\n",
    "        # step 1\n",
    "        x_small_half = rk4(x[acc],h/2,derivs)\n",
    "        # step 2\n",
    "        x_small = rk4(x_small_half,h/2,derivs)\n",
    "\n",
    "        # calculate error\n",
    "        err = np.max(np.abs((x_big-x_small)))\n",
    "        # check if x_big satisfies threshold\n",
    "        if err > err_thresh:\n",
    "            # reject!\n",
    "            # update step size\n",
    "            h = h/2\n",
    "            continue\n",
    "        else:\n",
    "            # accept!\n",
    "            t += h\n",
    "            \n",
    "            # update step size\n",
    "            h = 2*h\n",
    "            \n",
    "            # make sure we land on t_final = 2pi\n",
    "            t_left = 2*np.pi - t\n",
    "            if t_left < h:\n",
    "                h = t_left\n",
    "            if t_left == 0:\n",
    "                print('final t = ',t)\n",
    "                x[acc+1] = x_small\n",
    "                break\n",
    "                \n",
    "             \n",
    "            # keep track of number of steps taken\n",
    "            acc += 1\n",
    "            \n",
    "            x[acc] = x_small\n",
    "        \n",
    "        # concatenate new empty array to x in case x is filled up\n",
    "        if (acc+1) >= nsteps:\n",
    "            x_add = np.zeros((nsteps,len(x0)))\n",
    "            x = np.concatenate((x,x_add))\n",
    "            \n",
    "    return x[:(acc+2)]\n",
    "\n",
    "def derivs_orbit(x):\n",
    "    rr = (x[0]**2 + x[1]**2)**0.5\n",
    "    vxdot = -x[0]/rr**3\n",
    "    vydot = -x[1]/rr**3\n",
    "    xdot = x[2]\n",
    "    ydot = x[3]\n",
    "    return np.array((xdot,ydot,vxdot,vydot))"
   ]
  },
  {
   "cell_type": "markdown",
   "id": "d5eb65d1",
   "metadata": {},
   "source": [
    "First we show how many steps it takes for rk4 to reach an error on the order of $10^{-6}$"
   ]
  },
  {
   "cell_type": "code",
   "execution_count": 3,
   "id": "efa0efde",
   "metadata": {},
   "outputs": [
    {
     "name": "stdout",
     "output_type": "stream",
     "text": [
      "Error =  -8.914531396841952e-06\n",
      "Number of steps =  2400\n"
     ]
    },
    {
     "data": {
      "image/png": "[encoded data removed]",
      "text/plain": [
       "<Figure size 640x480 with 1 Axes>"
      ]
     },
     "metadata": {},
     "output_type": "display_data"
    }
   ],
   "source": [
    "nsteps = 2400\n",
    "dt = 2 * np.pi / (nsteps-1)\n",
    "t = np.arange(nsteps)*dt\n",
    "\n",
    "e0 = 0.9     # eccentricity\n",
    "r0 = 1 + e0  # initial radius\n",
    "v0 = np.sqrt(2/r0-1.)\n",
    "x_start = np.array((r0,0.,0.,v0))\n",
    "\n",
    "x = constant_integrator(nsteps,dt, x_start, derivs_orbit)\n",
    "\n",
    "xf = x[-1] # final values\n",
    "rf = np.linalg.norm((xf[0],xf[1]))  # final radius\n",
    "error = rf-r0\n",
    "print('Error = ', error)\n",
    "print('Number of steps = ', nsteps)\n",
    "\n",
    "plt.title('Constant step size integrator $\\epsilon$ = %f'%e0)\n",
    "plt.scatter(x[:,0], x[:,1], c=t, cmap='autumn_r',s=0.2)\n",
    "ax = plt.gca()\n",
    "ax.set_aspect('equal', adjustable='box')\n",
    "plt.draw()"
   ]
  },
  {
   "cell_type": "markdown",
   "id": "8a3e79e8",
   "metadata": {},
   "source": [
    "Now we use the adaptive integrator"
   ]
  },
  {
   "cell_type": "code",
   "execution_count": 4,
   "id": "25b19095",
   "metadata": {},
   "outputs": [
    {
     "name": "stdout",
     "output_type": "stream",
     "text": [
      "final t =  6.283185307179586\n",
      "Error =  -1.0714291382996066e-06\n",
      "Number of steps 125\n"
     ]
    },
    {
     "data": {
      "image/png": "[encoded data removed]",
      "text/plain": [
       "<Figure size 640x480 with 1 Axes>"
      ]
     },
     "metadata": {},
     "output_type": "display_data"
    }
   ],
   "source": [
    "# estimate number of steps to establish inital step size\n",
    "nsteps = 1000\n",
    "dt = 2 * np.pi / (nsteps-1)\n",
    "\n",
    "# define starting conditions of orbit\n",
    "e0 = 0.9        # eccentricity\n",
    "r0 = 1 + e0     # radius\n",
    "v0 = np.sqrt(2/r0-1.)\n",
    "x_start = np.array((r0,0.,0.,v0)) \n",
    "\n",
    "x = adaptive_integrator(dt, x_start, derivs_orbit)\n",
    "\n",
    "# calculate error\n",
    "xf = x[-1]\n",
    "rf = np.linalg.norm((xf[0],xf[1]))\n",
    "error = rf-r0\n",
    "print('Error = ', error)\n",
    "\n",
    "plt.title('Adaptive Integrator $\\epsilon$ = %f'%e0)\n",
    "c = np.arange((len(x[:,0])))\n",
    "plt.scatter(x[:,0], x[:,1], c=c, cmap='autumn_r',s=0.9)\n",
    "ax = plt.gca()\n",
    "ax.set_aspect('equal', adjustable='box')\n",
    "plt.draw()\n",
    "\n",
    "print('Number of steps',len(x))\n"
   ]
  },
  {
   "cell_type": "markdown",
   "id": "4a2836c0",
   "metadata": {},
   "source": [
    "With constant step size, the integrator needed 2400 steps. The adaptive integrator on the other hand needed to take only 125 steps. This is orders of magnitude better than the constant step size integrator."
   ]
  },
  {
   "cell_type": "code",
   "execution_count": null,
   "id": "b386ec84",
   "metadata": {},
   "outputs": [],
   "source": []
  }
 ],
 "metadata": {
  "kernelspec": {
   "display_name": "Python 3 (ipykernel)",
   "language": "python",
   "name": "python3"
  },
  "language_info": {
   "codemirror_mode": {
    "name": "ipython",
    "version": 3
   },
   "file_extension": ".py",
   "mimetype": "text/x-python",
   "name": "python",
   "nbconvert_exporter": "python",
   "pygments_lexer": "ipython3",
   "version": "3.11.5"
  }
 },
 "nbformat": 4,
 "nbformat_minor": 5
}
